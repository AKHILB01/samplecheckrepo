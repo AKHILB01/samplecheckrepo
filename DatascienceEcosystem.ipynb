{
 "cells": [
  {
   "cell_type": "markdown",
   "metadata": {},
   "source": [
    "<center>\n",
    "    <img src=\"https://cf-courses-data.s3.us.cloud-object-storage.appdomain.cloud/IBMDeveloperSkillsNetwork-DS0105EN-SkillsNetwork/labs/Module2/images/SN_web_lightmode.png\" width=\"300\" alt=\"cognitiveclass.ai logo\">\n",
    "</center>\n"
   ]
  },
  {
   "cell_type": "markdown",
   "metadata": {},
   "source": [
    "# Data science tools and Ecosystem"
   ]
  },
  {
   "cell_type": "markdown",
   "metadata": {},
   "source": [
    "In this note book, Data science tools and ecosystem are summerised:"
   ]
  },
  {
   "cell_type": "markdown",
   "metadata": {
    "tags": []
   },
   "source": [
    "|Some of the popular languages that Data science uses are :|\n",
    "|-----------------------------------------------------------|\n",
    "   |1.Python|\n",
    "   |2.R|\n",
    "   |3.C++|\n",
    "   |4.Java|"
   ]
  },
  {
   "cell_type": "markdown",
   "metadata": {},
   "source": [
    "|some of the most commonly used libraries by Data scientist are:|\n",
    "|---------------------------------------------------------------|\n",
    " |1.Tensorflow|\n",
    " |2. PyTorch|\n",
    " |3.Numpy|\n",
    " |4.Pandas|\n",
    " |5.Keras|"
   ]
  },
  {
   "cell_type": "markdown",
   "metadata": {},
   "source": [
    "### Datasciencetools\n",
    " | Data science tools |\n",
    " |--------------------|\n",
    " |Data management|\n",
    " |Data intigration and transformation|\n",
    " |Data visualisation|\n",
    " |Model monitering and assessment|\n",
    " "
   ]
  },
  {
   "cell_type": "markdown",
   "metadata": {},
   "source": [
    "### Below are few examples of arthmetic expression in python"
   ]
  },
  {
   "cell_type": "code",
   "execution_count": 11,
   "metadata": {
    "tags": []
   },
   "outputs": [
    {
     "name": "stdout",
     "output_type": "stream",
     "text": [
      "This is a simple arthmetic expression to multiply and then add integers:\n",
      "17\n"
     ]
    }
   ],
   "source": [
    "print(\"This is a simple arthmetic expression to multiply and then add integers:\")\n",
    "result=(4*3)+5\n",
    "print(result)\n"
   ]
  },
  {
   "cell_type": "code",
   "execution_count": 10,
   "metadata": {
    "tags": []
   },
   "outputs": [
    {
     "name": "stdin",
     "output_type": "stream",
     "text": [
      "enter the minutes: 200\n"
     ]
    },
    {
     "name": "stdout",
     "output_type": "stream",
     "text": [
      "3\n"
     ]
    }
   ],
   "source": [
    "minutes=int(input(\"enter the minutes:\"))\n",
    "hours=int(minutes)//int(60)\n",
    "print(hours)\n"
   ]
  },
  {
   "cell_type": "markdown",
   "metadata": {},
   "source": [
    "## Objectives\n",
    "#### List of popular languages for data science\n",
    "  - python\n",
    "  - c++\n",
    "  - java\n",
    "  - Html\n",
    "  - SQL\n",
    " "
   ]
  },
  {
   "cell_type": "markdown",
   "metadata": {},
   "source": [
    "## Author\n",
    "Name : Akhil"
   ]
  }
 ],
 "metadata": {
  "kernelspec": {
   "display_name": "Python",
   "language": "python",
   "name": "conda-env-python-py"
  },
  "language_info": {
   "codemirror_mode": {
    "name": "ipython",
    "version": 3
   },
   "file_extension": ".py",
   "mimetype": "text/x-python",
   "name": "python",
   "nbconvert_exporter": "python",
   "pygments_lexer": "ipython3",
   "version": "3.7.12"
  },
  "toc-autonumbering": false,
  "toc-showmarkdowntxt": true
 },
 "nbformat": 4,
 "nbformat_minor": 4
}
